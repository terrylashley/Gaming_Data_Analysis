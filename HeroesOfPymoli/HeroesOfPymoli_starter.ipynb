{
 "cells": [
  {
   "cell_type": "markdown",
   "metadata": {},
   "source": [
    "### Note\n",
    "* Instructions have been included for each segment. You do not have to follow them exactly, but they are included to help you think through the steps."
   ]
  },
  {
   "cell_type": "code",
   "execution_count": 10,
   "metadata": {},
   "outputs": [],
   "source": [
    "# Dependencies and Setup\n",
    "import pandas as pd\n",
    "\n",
    "# File to Load (Remember to Change These)\n",
    "file_to_load = \"Data/purchase_data.csv\"\n",
    "\n",
    "# Read Purchasing File and store into Pandas data frame\n",
    "purchase_data = pd.read_csv(file_to_load)"
   ]
  },
  {
   "cell_type": "code",
   "execution_count": 11,
   "metadata": {},
   "outputs": [
    {
     "data": {
      "text/html": "<div>\n<style scoped>\n    .dataframe tbody tr th:only-of-type {\n        vertical-align: middle;\n    }\n\n    .dataframe tbody tr th {\n        vertical-align: top;\n    }\n\n    .dataframe thead th {\n        text-align: right;\n    }\n</style>\n<table border=\"1\" class=\"dataframe\">\n  <thead>\n    <tr style=\"text-align: right;\">\n      <th></th>\n      <th>Purchase ID</th>\n      <th>SN</th>\n      <th>Age</th>\n      <th>Gender</th>\n      <th>Item ID</th>\n      <th>Item Name</th>\n      <th>Price</th>\n    </tr>\n  </thead>\n  <tbody>\n    <tr>\n      <td>0</td>\n      <td>0</td>\n      <td>Lisim78</td>\n      <td>20</td>\n      <td>Male</td>\n      <td>108</td>\n      <td>Extraction, Quickblade Of Trembling Hands</td>\n      <td>3.53</td>\n    </tr>\n    <tr>\n      <td>1</td>\n      <td>1</td>\n      <td>Lisovynya38</td>\n      <td>40</td>\n      <td>Male</td>\n      <td>143</td>\n      <td>Frenzied Scimitar</td>\n      <td>1.56</td>\n    </tr>\n    <tr>\n      <td>2</td>\n      <td>2</td>\n      <td>Ithergue48</td>\n      <td>24</td>\n      <td>Male</td>\n      <td>92</td>\n      <td>Final Critic</td>\n      <td>4.88</td>\n    </tr>\n    <tr>\n      <td>3</td>\n      <td>3</td>\n      <td>Chamassasya86</td>\n      <td>24</td>\n      <td>Male</td>\n      <td>100</td>\n      <td>Blindscythe</td>\n      <td>3.27</td>\n    </tr>\n    <tr>\n      <td>4</td>\n      <td>4</td>\n      <td>Iskosia90</td>\n      <td>23</td>\n      <td>Male</td>\n      <td>131</td>\n      <td>Fury</td>\n      <td>1.44</td>\n    </tr>\n    <tr>\n      <td>5</td>\n      <td>5</td>\n      <td>Yalae81</td>\n      <td>22</td>\n      <td>Male</td>\n      <td>81</td>\n      <td>Dreamkiss</td>\n      <td>3.61</td>\n    </tr>\n    <tr>\n      <td>6</td>\n      <td>6</td>\n      <td>Itheria73</td>\n      <td>36</td>\n      <td>Male</td>\n      <td>169</td>\n      <td>Interrogator, Blood Blade of the Queen</td>\n      <td>2.18</td>\n    </tr>\n    <tr>\n      <td>7</td>\n      <td>7</td>\n      <td>Iskjaskst81</td>\n      <td>20</td>\n      <td>Male</td>\n      <td>162</td>\n      <td>Abyssal Shard</td>\n      <td>2.67</td>\n    </tr>\n    <tr>\n      <td>8</td>\n      <td>8</td>\n      <td>Undjask33</td>\n      <td>22</td>\n      <td>Male</td>\n      <td>21</td>\n      <td>Souleater</td>\n      <td>1.10</td>\n    </tr>\n    <tr>\n      <td>9</td>\n      <td>9</td>\n      <td>Chanosian48</td>\n      <td>35</td>\n      <td>Other / Non-Disclosed</td>\n      <td>136</td>\n      <td>Ghastly Adamantite Protector</td>\n      <td>3.58</td>\n    </tr>\n    <tr>\n      <td>10</td>\n      <td>10</td>\n      <td>Inguron55</td>\n      <td>23</td>\n      <td>Male</td>\n      <td>95</td>\n      <td>Singed Onyx Warscythe</td>\n      <td>4.74</td>\n    </tr>\n    <tr>\n      <td>11</td>\n      <td>11</td>\n      <td>Haisrisuir60</td>\n      <td>23</td>\n      <td>Male</td>\n      <td>162</td>\n      <td>Abyssal Shard</td>\n      <td>2.67</td>\n    </tr>\n    <tr>\n      <td>12</td>\n      <td>12</td>\n      <td>Saelaephos52</td>\n      <td>21</td>\n      <td>Male</td>\n      <td>116</td>\n      <td>Renewed Skeletal Katana</td>\n      <td>4.18</td>\n    </tr>\n    <tr>\n      <td>13</td>\n      <td>13</td>\n      <td>Assjaskan73</td>\n      <td>22</td>\n      <td>Male</td>\n      <td>4</td>\n      <td>Bloodlord's Fetish</td>\n      <td>1.70</td>\n    </tr>\n    <tr>\n      <td>14</td>\n      <td>14</td>\n      <td>Saesrideu94</td>\n      <td>35</td>\n      <td>Male</td>\n      <td>165</td>\n      <td>Bone Crushing Silver Skewer</td>\n      <td>4.86</td>\n    </tr>\n    <tr>\n      <td>15</td>\n      <td>15</td>\n      <td>Lisassa64</td>\n      <td>21</td>\n      <td>Female</td>\n      <td>98</td>\n      <td>Deadline, Voice Of Subtlety</td>\n      <td>2.89</td>\n    </tr>\n    <tr>\n      <td>16</td>\n      <td>16</td>\n      <td>Lisirra25</td>\n      <td>20</td>\n      <td>Male</td>\n      <td>40</td>\n      <td>Second Chance</td>\n      <td>2.52</td>\n    </tr>\n    <tr>\n      <td>17</td>\n      <td>17</td>\n      <td>Zontibe81</td>\n      <td>21</td>\n      <td>Male</td>\n      <td>161</td>\n      <td>Devine</td>\n      <td>1.76</td>\n    </tr>\n    <tr>\n      <td>18</td>\n      <td>18</td>\n      <td>Reunasu60</td>\n      <td>22</td>\n      <td>Female</td>\n      <td>82</td>\n      <td>Nirvana</td>\n      <td>4.90</td>\n    </tr>\n    <tr>\n      <td>19</td>\n      <td>19</td>\n      <td>Chamalo71</td>\n      <td>30</td>\n      <td>Male</td>\n      <td>89</td>\n      <td>Blazefury, Protector of Delusions</td>\n      <td>4.64</td>\n    </tr>\n  </tbody>\n</table>\n</div>",
      "text/plain": "    Purchase ID             SN  Age                 Gender  Item ID  \\\n0             0        Lisim78   20                   Male      108   \n1             1    Lisovynya38   40                   Male      143   \n2             2     Ithergue48   24                   Male       92   \n3             3  Chamassasya86   24                   Male      100   \n4             4      Iskosia90   23                   Male      131   \n5             5        Yalae81   22                   Male       81   \n6             6      Itheria73   36                   Male      169   \n7             7    Iskjaskst81   20                   Male      162   \n8             8      Undjask33   22                   Male       21   \n9             9    Chanosian48   35  Other / Non-Disclosed      136   \n10           10      Inguron55   23                   Male       95   \n11           11   Haisrisuir60   23                   Male      162   \n12           12   Saelaephos52   21                   Male      116   \n13           13    Assjaskan73   22                   Male        4   \n14           14    Saesrideu94   35                   Male      165   \n15           15      Lisassa64   21                 Female       98   \n16           16      Lisirra25   20                   Male       40   \n17           17      Zontibe81   21                   Male      161   \n18           18      Reunasu60   22                 Female       82   \n19           19      Chamalo71   30                   Male       89   \n\n                                    Item Name  Price  \n0   Extraction, Quickblade Of Trembling Hands   3.53  \n1                           Frenzied Scimitar   1.56  \n2                                Final Critic   4.88  \n3                                 Blindscythe   3.27  \n4                                        Fury   1.44  \n5                                   Dreamkiss   3.61  \n6      Interrogator, Blood Blade of the Queen   2.18  \n7                               Abyssal Shard   2.67  \n8                                   Souleater   1.10  \n9                Ghastly Adamantite Protector   3.58  \n10                      Singed Onyx Warscythe   4.74  \n11                              Abyssal Shard   2.67  \n12                    Renewed Skeletal Katana   4.18  \n13                         Bloodlord's Fetish   1.70  \n14                Bone Crushing Silver Skewer   4.86  \n15                Deadline, Voice Of Subtlety   2.89  \n16                              Second Chance   2.52  \n17                                     Devine   1.76  \n18                                    Nirvana   4.90  \n19          Blazefury, Protector of Delusions   4.64  "
     },
     "execution_count": 11,
     "metadata": {},
     "output_type": "execute_result"
    }
   ],
   "source": [
    "purchase_data.head(20)"
   ]
  },
  {
   "cell_type": "markdown",
   "metadata": {},
   "source": [
    "## Player Count"
   ]
  },
  {
   "cell_type": "markdown",
   "metadata": {},
   "source": [
    "* Display the total number of players"
   ]
  },
  {
   "cell_type": "code",
   "execution_count": 12,
   "metadata": {},
   "outputs": [
    {
     "data": {
      "text/html": "<div>\n<style scoped>\n    .dataframe tbody tr th:only-of-type {\n        vertical-align: middle;\n    }\n\n    .dataframe tbody tr th {\n        vertical-align: top;\n    }\n\n    .dataframe thead th {\n        text-align: right;\n    }\n</style>\n<table border=\"1\" class=\"dataframe\">\n  <thead>\n    <tr style=\"text-align: right;\">\n      <th></th>\n      <th>Total Players</th>\n    </tr>\n  </thead>\n  <tbody>\n    <tr>\n      <td>0</td>\n      <td>576</td>\n    </tr>\n  </tbody>\n</table>\n</div>",
      "text/plain": "   Total Players\n0            576"
     },
     "execution_count": 12,
     "metadata": {},
     "output_type": "execute_result"
    }
   ],
   "source": [
    "#Use len and .unique to identify the \n",
    "total_players = len(purchase_data[\"SN\"].unique())\n",
    "\n",
    "total_players_df = pd.DataFrame({\"Total Players\": [total_players]})\n",
    "\n",
    "total_players_df\n"
   ]
  },
  {
   "cell_type": "markdown",
   "metadata": {},
   "source": [
    "## Purchasing Analysis (Total)"
   ]
  },
  {
   "cell_type": "markdown",
   "metadata": {},
   "source": [
    "* Run basic calculations to obtain number of unique items, average price, etc.\n",
    "\n",
    "\n",
    "* Create a summary data frame to hold the results\n",
    "\n",
    "\n",
    "* Optional: give the displayed data cleaner formatting\n",
    "\n",
    "\n",
    "* Display the summary data frame\n"
   ]
  },
  {
   "cell_type": "code",
   "execution_count": 13,
   "metadata": {},
   "outputs": [],
   "source": [
    "avg_price = purchase_data[\"Price\"].mean()\n",
    "\n",
    "\n",
    "num_purchases = purchase_data[\"Item ID\"].count()\n",
    "\n",
    "\n",
    "total_revenue = purchase_data[\"Price\"].sum()\n",
    "\n",
    "\n",
    "unique_items = purchase_data[\"Item ID\"].nunique()\n",
    "\n",
    "\n",
    "\n"
   ]
  },
  {
   "cell_type": "code",
   "execution_count": 14,
   "metadata": {},
   "outputs": [
    {
     "data": {
      "text/html": "<div>\n<style scoped>\n    .dataframe tbody tr th:only-of-type {\n        vertical-align: middle;\n    }\n\n    .dataframe tbody tr th {\n        vertical-align: top;\n    }\n\n    .dataframe thead th {\n        text-align: right;\n    }\n</style>\n<table border=\"1\" class=\"dataframe\">\n  <thead>\n    <tr style=\"text-align: right;\">\n      <th></th>\n      <th>Number of Unique Items</th>\n      <th>Average Price</th>\n      <th>Number of Purchases</th>\n      <th>Total Revenue</th>\n    </tr>\n  </thead>\n  <tbody>\n    <tr>\n      <td>0</td>\n      <td>183</td>\n      <td>$3.05</td>\n      <td>780</td>\n      <td>$2,379.77</td>\n    </tr>\n  </tbody>\n</table>\n</div>",
      "text/plain": "   Number of Unique Items Average Price  Number of Purchases Total Revenue\n0                     183         $3.05                  780     $2,379.77"
     },
     "execution_count": 14,
     "metadata": {},
     "output_type": "execute_result"
    }
   ],
   "source": [
    "purchasing_analysis_df = pd.DataFrame({\"Number of Unique Items\": [unique_items],\n",
    "                                   \"Average Price\": [avg_price],\n",
    "                                   \"Number of Purchases\": [num_purchases], \n",
    "                                   \"Total Revenue\": [total_revenue]})\n",
    "\n",
    "purchasing_analysis_df[\"Total Revenue\"] = purchasing_analysis_df[\"Total Revenue\"].astype(float).map(\"${:,.2f}\".format)\n",
    "purchasing_analysis_df[\"Average Price\"] = purchasing_analysis_df[\"Average Price\"].astype(float).map(\"${:.2f}\".format)\n",
    "\n",
    "\n",
    "purchasing_analysis_df\n"
   ]
  },
  {
   "cell_type": "markdown",
   "metadata": {},
   "source": [
    "## Gender Demographics"
   ]
  },
  {
   "cell_type": "markdown",
   "metadata": {},
   "source": [
    "* Percentage and Count of Male Players\n",
    "\n",
    "\n",
    "* Percentage and Count of Female Players\n",
    "\n",
    "\n",
    "* Percentage and Count of Other / Non-Disclosed\n",
    "\n",
    "\n"
   ]
  },
  {
   "cell_type": "code",
   "execution_count": 15,
   "metadata": {},
   "outputs": [
    {
     "data": {
      "text/html": "<div>\n<style scoped>\n    .dataframe tbody tr th:only-of-type {\n        vertical-align: middle;\n    }\n\n    .dataframe tbody tr th {\n        vertical-align: top;\n    }\n\n    .dataframe thead th {\n        text-align: right;\n    }\n</style>\n<table border=\"1\" class=\"dataframe\">\n  <thead>\n    <tr style=\"text-align: right;\">\n      <th></th>\n      <th>Total Count</th>\n      <th>Percentage of Players</th>\n    </tr>\n    <tr>\n      <th>Gender</th>\n      <th></th>\n      <th></th>\n    </tr>\n  </thead>\n  <tbody>\n    <tr>\n      <td>Female</td>\n      <td>81</td>\n      <td>14.06%</td>\n    </tr>\n    <tr>\n      <td>Male</td>\n      <td>484</td>\n      <td>84.03%</td>\n    </tr>\n    <tr>\n      <td>Other / Non-Disclosed</td>\n      <td>11</td>\n      <td>1.91%</td>\n    </tr>\n  </tbody>\n</table>\n</div>",
      "text/plain": "                       Total Count Percentage of Players\nGender                                                  \nFemale                          81                14.06%\nMale                           484                84.03%\nOther / Non-Disclosed           11                 1.91%"
     },
     "execution_count": 15,
     "metadata": {},
     "output_type": "execute_result"
    }
   ],
   "source": [
    "groupby_gender_sn = purchase_data.groupby([\"SN\", \"Gender\"])\n",
    "groupby_gender_sn\n",
    "\n",
    "players_df = pd.DataFrame(groupby_gender_sn.size())\n",
    "players_df\n",
    "\n",
    "gender_df = pd.DataFrame(players_df.groupby([\"Gender\"]).count())\n",
    "gender_df.columns = [\"Total Count\"]\n",
    "\n",
    "#Format percentage of players properly\n",
    "\n",
    "gender_df[\"Percentage of Players\"] = (100*(gender_df[\"Total Count\"]/gender_df[\"Total Count\"].sum()))\n",
    "\n",
    "gender_df[\"Percentage of Players\"] = gender_df[\"Percentage of Players\"].astype(float).map('{:,.2f}%'.format)\n",
    "\n",
    "gender_df\n"
   ]
  },
  {
   "cell_type": "markdown",
   "metadata": {},
   "source": [
    "\n",
    "## Purchasing Analysis (Gender)"
   ]
  },
  {
   "cell_type": "markdown",
   "metadata": {},
   "source": [
    "* Run basic calculations to obtain purchase count, avg. purchase price, avg. purchase total per person etc. by gender\n",
    "\n",
    "\n",
    "\n",
    "\n",
    "* Create a summary data frame to hold the results\n",
    "\n",
    "\n",
    "* Optional: give the displayed data cleaner formatting\n",
    "\n",
    "\n",
    "* Display the summary data frame"
   ]
  },
  {
   "cell_type": "code",
   "execution_count": 16,
   "metadata": {},
   "outputs": [
    {
     "data": {
      "text/html": "<div>\n<style scoped>\n    .dataframe tbody tr th:only-of-type {\n        vertical-align: middle;\n    }\n\n    .dataframe tbody tr th {\n        vertical-align: top;\n    }\n\n    .dataframe thead th {\n        text-align: right;\n    }\n</style>\n<table border=\"1\" class=\"dataframe\">\n  <thead>\n    <tr style=\"text-align: right;\">\n      <th></th>\n      <th>Purchase Count</th>\n      <th>Average Purchase Price</th>\n      <th>Total Purchase Value</th>\n      <th>Avg Total Purchase per Person</th>\n    </tr>\n    <tr>\n      <th>Gender</th>\n      <th></th>\n      <th></th>\n      <th></th>\n      <th></th>\n    </tr>\n  </thead>\n  <tbody>\n    <tr>\n      <td>Female</td>\n      <td>113</td>\n      <td>$3.20</td>\n      <td>$361.94</td>\n      <td>$4.47</td>\n    </tr>\n    <tr>\n      <td>Male</td>\n      <td>652</td>\n      <td>$3.02</td>\n      <td>$1,967.64</td>\n      <td>$4.07</td>\n    </tr>\n    <tr>\n      <td>Other / Non-Disclosed</td>\n      <td>15</td>\n      <td>$3.35</td>\n      <td>$50.19</td>\n      <td>$4.56</td>\n    </tr>\n  </tbody>\n</table>\n</div>",
      "text/plain": "                       Purchase Count Average Purchase Price  \\\nGender                                                         \nFemale                            113                  $3.20   \nMale                              652                  $3.02   \nOther / Non-Disclosed              15                  $3.35   \n\n                      Total Purchase Value Avg Total Purchase per Person  \nGender                                                                    \nFemale                             $361.94                         $4.47  \nMale                             $1,967.64                         $4.07  \nOther / Non-Disclosed               $50.19                         $4.56  "
     },
     "execution_count": 16,
     "metadata": {},
     "output_type": "execute_result"
    }
   ],
   "source": [
    "# Group by gender\n",
    "groupby_gender_df = purchase_data.groupby([\"Gender\"])\n",
    "groupby_gender_df\n",
    "\n",
    "#Count the total amount of screen names\n",
    "\n",
    "\n",
    "#Create multiple calculations Unique / mean / sum /  calculation  of total value/total gender\n",
    "\n",
    "avg_price_gender = groupby_gender_df[\"Price\"].mean()\n",
    "\n",
    "total_revenue = groupby_gender_df[\"Price\"].sum()\n",
    "\n",
    "unique_purchases = groupby_gender_df[\"Item ID\"].count()\n",
    "\n",
    "# Delete Duplicates\n",
    "duplicates = purchase_data.drop_duplicates(subset='SN', keep=\"first\")\n",
    "grouped_dup = duplicates.groupby([\"Gender\"])\n",
    "\n",
    "# Find average total purchase\n",
    "avg_total_purchase = (groupby_gender_df[\"Price\"].sum() / grouped_dup[\"SN\"].count())\n",
    "\n",
    "\n",
    "#Create DF for Purchasing Analysis (Gender)\n",
    "groupby_gender = pd.DataFrame({\"Purchase Count\":unique_purchases, \"Average Purchase Price\": avg_price_gender, \"Total Purchase Value\": total_revenue, \"Avg Total Purchase per Person\": avg_total_purchase})\n",
    "\n",
    "groupby_gender[\"Avg Total Purchase per Person\"] = groupby_gender[\"Avg Total Purchase per Person\"].astype(float).map('${:.2f}'.format)\n",
    "groupby_gender[\"Total Purchase Value\"] = groupby_gender[\"Total Purchase Value\"].astype(float).map('${:,.2f}'.format)\n",
    "groupby_gender[\"Average Purchase Price\"] = groupby_gender[\"Average Purchase Price\"].astype(float).map('${:.2f}'.format)\n",
    "\n",
    "groupby_gender\n"
   ]
  },
  {
   "cell_type": "markdown",
   "metadata": {},
   "source": [
    "## Age Demographics"
   ]
  },
  {
   "cell_type": "markdown",
   "metadata": {},
   "source": [
    "* Establish bins for ages\n",
    "\n",
    "\n",
    "* Categorize the existing players using the age bins. Hint: use pd.cut()\n",
    "\n",
    "\n",
    "* Calculate the numbers and percentages by age group\n",
    "\n",
    "\n",
    "* Create a summary data frame to hold the results\n",
    "\n",
    "\n",
    "* Optional: round the percentage column to two decimal points\n",
    "\n",
    "\n",
    "* Display Age Demographics Table\n"
   ]
  },
  {
   "cell_type": "code",
   "execution_count": 17,
   "metadata": {},
   "outputs": [
    {
     "data": {
      "text/html": "<div>\n<style scoped>\n    .dataframe tbody tr th:only-of-type {\n        vertical-align: middle;\n    }\n\n    .dataframe tbody tr th {\n        vertical-align: top;\n    }\n\n    .dataframe thead th {\n        text-align: right;\n    }\n</style>\n<table border=\"1\" class=\"dataframe\">\n  <thead>\n    <tr style=\"text-align: right;\">\n      <th></th>\n      <th>Total Count</th>\n      <th>Percentage of Players</th>\n    </tr>\n  </thead>\n  <tbody>\n    <tr>\n      <td>&lt;10</td>\n      <td>17</td>\n      <td>2.95%</td>\n    </tr>\n    <tr>\n      <td>10-14</td>\n      <td>22</td>\n      <td>3.82%</td>\n    </tr>\n    <tr>\n      <td>15-19</td>\n      <td>107</td>\n      <td>18.58%</td>\n    </tr>\n    <tr>\n      <td>20-24</td>\n      <td>258</td>\n      <td>44.79%</td>\n    </tr>\n    <tr>\n      <td>25-29</td>\n      <td>77</td>\n      <td>13.37%</td>\n    </tr>\n    <tr>\n      <td>30-34</td>\n      <td>52</td>\n      <td>9.03%</td>\n    </tr>\n    <tr>\n      <td>35-39</td>\n      <td>31</td>\n      <td>5.38%</td>\n    </tr>\n    <tr>\n      <td>40+</td>\n      <td>12</td>\n      <td>2.08%</td>\n    </tr>\n  </tbody>\n</table>\n</div>",
      "text/plain": "       Total Count Percentage of Players\n<10             17                 2.95%\n10-14           22                 3.82%\n15-19          107                18.58%\n20-24          258                44.79%\n25-29           77                13.37%\n30-34           52                 9.03%\n35-39           31                 5.38%\n40+             12                 2.08%"
     },
     "execution_count": 17,
     "metadata": {},
     "output_type": "execute_result"
    }
   ],
   "source": [
    "# Create Bins for Age Demographics\n",
    "age_bins = [0, 9.90, 14.90, 19.90, 24.90, 29.90, 34.90, 39.90, 9999]\n",
    "group_names = [\"<10\", \"10-14\", \"15-19\", \"20-24\", \"25-29\", \"30-34\", \"35-39\", \"40+\"]\n",
    "\n",
    "#Seperate and sort age values into age bins establised \n",
    "purchase_data[\"Age Group\"] = pd.cut(purchase_data[\"Age\"], age_bins, labels=group_names)\n",
    "purchase_data.head()\n",
    "\n",
    "#Group \"Age Group\" prepare data to build the DataFrame\n",
    "age_grouped = purchase_data.groupby(\"Age Group\")\n",
    "\n",
    "#Count the total number of players by each age category\n",
    "total_age_count = age_grouped[\"SN\"].nunique()\n",
    "\n",
    "#Calculate the percentages by age\n",
    "all_players = len(purchase_data[\"SN\"].value_counts())\n",
    "\n",
    "percentage_by_age = (total_age_count/all_players) * 100\n",
    "\n",
    "#Build the DataFrame with \"Age Group\" \n",
    "age_demo = pd.DataFrame({\"Total Count\": total_age_count, \"Percentage of Players\": percentage_by_age })\n",
    "\n",
    "# Format the DataFrame to have no index on the left column\n",
    "age_demo.index.name = None\n",
    "\n",
    "#Formate percentage with two decimal places\n",
    "age_demo[\"Percentage of Players\"] = age_demo[\"Percentage of Players\"].astype(float).map('{:.2f}%'.format)\n",
    "\n",
    "age_demo\n"
   ]
  },
  {
   "cell_type": "markdown",
   "metadata": {},
   "source": [
    "## Purchasing Analysis (Age)"
   ]
  },
  {
   "cell_type": "markdown",
   "metadata": {},
   "source": [
    "* Bin the purchase_data data frame by age\n",
    "\n",
    "\n",
    "* Run basic calculations to obtain purchase count, avg. purchase price, avg. purchase total per person etc. in the table below\n",
    "\n",
    "\n",
    "* Create a summary data frame to hold the results\n",
    "\n",
    "\n",
    "* Optional: give the displayed data cleaner formatting\n",
    "\n",
    "\n",
    "* Display the summary data frame"
   ]
  },
  {
   "cell_type": "code",
   "execution_count": 24,
   "metadata": {},
   "outputs": [
    {
     "data": {
      "text/html": "<div>\n<style scoped>\n    .dataframe tbody tr th:only-of-type {\n        vertical-align: middle;\n    }\n\n    .dataframe tbody tr th {\n        vertical-align: top;\n    }\n\n    .dataframe thead th {\n        text-align: right;\n    }\n</style>\n<table border=\"1\" class=\"dataframe\">\n  <thead>\n    <tr style=\"text-align: right;\">\n      <th></th>\n      <th>Purchase Count</th>\n      <th>Average Purchase Price</th>\n      <th>Total Purchase Value</th>\n      <th>Average Total Purchase per Person</th>\n    </tr>\n  </thead>\n  <tbody>\n    <tr>\n      <td>&lt;10</td>\n      <td>23</td>\n      <td>$3.35</td>\n      <td>$77.13</td>\n      <td>$4.54</td>\n    </tr>\n    <tr>\n      <td>10-14</td>\n      <td>28</td>\n      <td>$2.96</td>\n      <td>$82.78</td>\n      <td>$3.76</td>\n    </tr>\n    <tr>\n      <td>15-19</td>\n      <td>136</td>\n      <td>$3.04</td>\n      <td>$412.89</td>\n      <td>$3.86</td>\n    </tr>\n    <tr>\n      <td>20-24</td>\n      <td>365</td>\n      <td>$3.05</td>\n      <td>$1114.06</td>\n      <td>$4.32</td>\n    </tr>\n    <tr>\n      <td>25-29</td>\n      <td>101</td>\n      <td>$2.90</td>\n      <td>$293.00</td>\n      <td>$3.81</td>\n    </tr>\n    <tr>\n      <td>30-34</td>\n      <td>73</td>\n      <td>$2.93</td>\n      <td>$214.00</td>\n      <td>$4.12</td>\n    </tr>\n    <tr>\n      <td>35-39</td>\n      <td>41</td>\n      <td>$3.60</td>\n      <td>$147.67</td>\n      <td>$4.76</td>\n    </tr>\n    <tr>\n      <td>40+</td>\n      <td>13</td>\n      <td>$2.94</td>\n      <td>$38.24</td>\n      <td>$3.19</td>\n    </tr>\n  </tbody>\n</table>\n</div>",
      "text/plain": "       Purchase Count Average Purchase Price Total Purchase Value  \\\n<10                23                  $3.35               $77.13   \n10-14              28                  $2.96               $82.78   \n15-19             136                  $3.04              $412.89   \n20-24             365                  $3.05             $1114.06   \n25-29             101                  $2.90              $293.00   \n30-34              73                  $2.93              $214.00   \n35-39              41                  $3.60              $147.67   \n40+                13                  $2.94               $38.24   \n\n      Average Total Purchase per Person  \n<10                               $4.54  \n10-14                             $3.76  \n15-19                             $3.86  \n20-24                             $4.32  \n25-29                             $3.81  \n30-34                             $4.12  \n35-39                             $4.76  \n40+                               $3.19  "
     },
     "execution_count": 24,
     "metadata": {},
     "output_type": "execute_result"
    }
   ],
   "source": [
    "#Create data categories based using grouped age \n",
    "\n",
    "purchase_count_byage = age_grouped[\"Purchase ID\"].count()\n",
    "\n",
    "avg_price_byage = age_grouped[\"Price\"].mean()\n",
    "\n",
    "total_purchase_value_byage = age_grouped[\"Price\"].sum()\n",
    "\n",
    "avg_total_purchase_byage = (total_purchase_value_byage / total_age_count)\n",
    "\n",
    "\n",
    "#Create DataFrame Bin /purchase_data / by age\n",
    "\n",
    "purchasing_by_age = pd.DataFrame({\"Purchase Count\": purchase_count_byage, \"Average Purchase Price\": avg_price_byage, \"Total Purchase Value\": total_purchase_value_byage, \"Average Total Purchase per Person\": avg_total_purchase_byage})\n",
    "\n",
    "#Format the data \n",
    "purchasing_by_age[\"Average Purchase Price\"] = purchasing_by_age[\"Average Purchase Price\"].astype(float).map('${:.2f}'.format)\n",
    "purchasing_by_age[\"Total Purchase Value\"] = purchasing_by_age[\"Total Purchase Value\"].astype(float).map('${:.2f}'.format) \n",
    "purchasing_by_age[\"Average Total Purchase per Person\"] = purchasing_by_age[\"Average Total Purchase per Person\"].astype(float).map('${:.2f}'.format)\n",
    "\n",
    "purchasing_by_age "
   ]
  },
  {
   "cell_type": "markdown",
   "metadata": {},
   "source": [
    "## Top Spenders"
   ]
  },
  {
   "cell_type": "markdown",
   "metadata": {},
   "source": [
    "* Run basic calculations to obtain the results in the table below\n",
    "\n",
    "\n",
    "* Create a summary data frame to hold the results\n",
    "\n",
    "\n",
    "* Sort the total purchase value column in descending order\n",
    "\n",
    "\n",
    "* Optional: give the displayed data cleaner formatting\n",
    "\n",
    "\n",
    "* Display a preview of the summary data frame\n",
    "\n"
   ]
  },
  {
   "cell_type": "code",
   "execution_count": 37,
   "metadata": {},
   "outputs": [
    {
     "data": {
      "text/html": "<div>\n<style scoped>\n    .dataframe tbody tr th:only-of-type {\n        vertical-align: middle;\n    }\n\n    .dataframe tbody tr th {\n        vertical-align: top;\n    }\n\n    .dataframe thead th {\n        text-align: right;\n    }\n</style>\n<table border=\"1\" class=\"dataframe\">\n  <thead>\n    <tr style=\"text-align: right;\">\n      <th></th>\n      <th>Purchase Count</th>\n      <th>Average Purchase Price</th>\n      <th>Total Purchase Value</th>\n    </tr>\n    <tr>\n      <th>SN</th>\n      <th></th>\n      <th></th>\n      <th></th>\n    </tr>\n  </thead>\n  <tbody>\n    <tr>\n      <td>Lisosia93</td>\n      <td>5</td>\n      <td>$3.79</td>\n      <td>$18.96</td>\n    </tr>\n    <tr>\n      <td>Idastidru52</td>\n      <td>4</td>\n      <td>$3.86</td>\n      <td>$15.45</td>\n    </tr>\n    <tr>\n      <td>Chamjask73</td>\n      <td>3</td>\n      <td>$4.61</td>\n      <td>$13.83</td>\n    </tr>\n    <tr>\n      <td>Iral74</td>\n      <td>4</td>\n      <td>$3.40</td>\n      <td>$13.62</td>\n    </tr>\n    <tr>\n      <td>Iskadarya95</td>\n      <td>3</td>\n      <td>$4.37</td>\n      <td>$13.10</td>\n    </tr>\n  </tbody>\n</table>\n</div>",
      "text/plain": "             Purchase Count Average Purchase Price Total Purchase Value\nSN                                                                     \nLisosia93                 5                  $3.79               $18.96\nIdastidru52               4                  $3.86               $15.45\nChamjask73                3                  $4.61               $13.83\nIral74                    4                  $3.40               $13.62\nIskadarya95               3                  $4.37               $13.10"
     },
     "execution_count": 37,
     "metadata": {},
     "output_type": "execute_result"
    }
   ],
   "source": [
    "#Group by \"SN\" to set up the DataFrame for Top Spenders\n",
    "top_spenders = purchase_data.groupby(\"SN\")\n",
    "\n",
    "#Create calculations for the DataFrame\n",
    "purchase_count_top = top_spenders[\"Purchase ID\"].count()\n",
    "\n",
    "avg_purchase_price_top = top_spenders[\"Price\"].mean()\n",
    "\n",
    "total_purchase_value_top = top_spenders[\"Price\"].sum()\n",
    "\n",
    "#Create DataFrame for Top Spenders\n",
    "top_spenders_df = pd.DataFrame({\"Purchase Count\": purchase_count_top, \"Average Purchase Price\": avg_purchase_price_top, \"Total Purchase Value\":total_purchase_value_top})\n",
    "\n",
    "#Sort top spenders in decending order\n",
    "top_spenders_formatted = top_spenders_df.sort_values([\"Total Purchase Value\"], ascending=False)\n",
    "\n",
    "#Format the data\n",
    "top_spenders_formatted[\"Average Purchase Price\"] = top_spenders_formatted[\"Average Purchase Price\"].astype(float).map('${:.2f}'.format)\n",
    "top_spenders_formatted[\"Total Purchase Value\"] = top_spenders_formatted[\"Total Purchase Value\"].astype(float).map('${:.2f}'.format)\n",
    "\n",
    "\n",
    "top_spenders_formatted.head()"
   ]
  },
  {
   "cell_type": "markdown",
   "metadata": {},
   "source": [
    "## Most Popular Items"
   ]
  },
  {
   "cell_type": "markdown",
   "metadata": {},
   "source": [
    "* Retrieve the Item ID, Item Name, and Item Price columns\n",
    "\n",
    "\n",
    "* Group by Item ID and Item Name. Perform calculations to obtain purchase count, item price, and total purchase value\n",
    "\n",
    "\n",
    "* Create a summary data frame to hold the results\n",
    "\n",
    "\n",
    "* Sort the purchase count column in descending order\n",
    "\n",
    "\n",
    "* Optional: give the displayed data cleaner formatting\n",
    "\n",
    "\n",
    "* Display a preview of the summary data frame\n",
    "\n"
   ]
  },
  {
   "cell_type": "code",
   "execution_count": null,
   "metadata": {},
   "outputs": [],
   "source": []
  },
  {
   "cell_type": "markdown",
   "metadata": {},
   "source": [
    "## Most Profitable Items"
   ]
  },
  {
   "cell_type": "markdown",
   "metadata": {},
   "source": [
    "* Sort the above table by total purchase value in descending order\n",
    "\n",
    "\n",
    "* Optional: give the displayed data cleaner formatting\n",
    "\n",
    "\n",
    "* Display a preview of the data frame\n",
    "\n"
   ]
  },
  {
   "cell_type": "code",
   "execution_count": null,
   "metadata": {
    "scrolled": true
   },
   "outputs": [],
   "source": []
  }
 ],
 "metadata": {
  "anaconda-cloud": {},
  "kernel_info": {
   "name": "python3"
  },
  "kernelspec": {
   "display_name": "Python 3",
   "language": "python",
   "name": "python3"
  },
  "language_info": {
   "codemirror_mode": {
    "name": "ipython",
    "version": 3
   },
   "file_extension": ".py",
   "mimetype": "text/x-python",
   "name": "python",
   "nbconvert_exporter": "python",
   "pygments_lexer": "ipython3",
   "version": "3.8.0-final"
  },
  "latex_envs": {
   "LaTeX_envs_menu_present": true,
   "autoclose": false,
   "autocomplete": true,
   "bibliofile": "biblio.bib",
   "cite_by": "apalike",
   "current_citInitial": 1,
   "eqLabelWithNumbers": true,
   "eqNumInitial": 1,
   "hotkeys": {
    "equation": "Ctrl-E",
    "itemize": "Ctrl-I"
   },
   "labels_anchors": false,
   "latex_user_defs": false,
   "report_style_numbering": false,
   "user_envs_cfg": false
  },
  "nteract": {
   "version": "0.2.0"
  }
 },
 "nbformat": 4,
 "nbformat_minor": 2
}